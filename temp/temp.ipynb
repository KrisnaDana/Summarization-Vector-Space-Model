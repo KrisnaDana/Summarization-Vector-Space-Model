{
 "cells": [
  {
   "cell_type": "code",
   "execution_count": 13,
   "metadata": {},
   "outputs": [],
   "source": [
    "# IMPORT LIBRARY\n",
    "from nltk.tokenize import sent_tokenize\n",
    "from nltk.tokenize import word_tokenize\n",
    "from nltk.cluster.util import cosine_distance\n",
    "import numpy as np\n",
    "import networkx as nx\n",
    "import re\n",
    "from Sastrawi.StopWordRemover.StopWordRemoverFactory import StopWordRemoverFactory\n",
    "from Sastrawi.Stemmer.StemmerFactory import StemmerFactory\n",
    "import pandas as pd"
   ]
  },
  {
   "cell_type": "code",
   "execution_count": 14,
   "metadata": {},
   "outputs": [
    {
     "name": "stdout",
     "output_type": "stream",
     "text": [
      "Go Language merupakan kepanjangan dari bahasa pemrograman satu ini. \n",
      "\n",
      "\n",
      "Seperti kita tahu namanya diawali dengan Go, ya benar dia merupakan bahasa pemrograman yang dikelola oleh Google. \n",
      "Google tidak bekerja sendirian, melainkan bekerja sama dengan 3 orang tokoh handal pada tahun 2009. \n",
      "Robert Griesemer, Rob Pike dan Ken Thompson merupakan ketiga tokoh tersebut. \n",
      "Bahasa pemrograman satu ini bisa diketik secara statis dan dapat menghasilkan kode-kode biner pada mesin yang dikompilasikan dengannya. \n",
      "Berasal dari abad ke-21, bahasa pemrograman Golang berusaha menghimpun bahasa-bahasa pemrograman pendahulunya. \n",
      "Pembuatan website, aplikasi maupun software juga bisa menggunakan bahasa pemrograman ini.\n"
     ]
    }
   ],
   "source": [
    "# INPUT\n",
    "# text = input(\"Masukkan text: \")\n",
    "# text = \"Go Language merupakan kepanjangan dari bahasa pemrograman satu ini. Seperti kita tahu namanya diawali dengan Go, ya benar dia merupakan bahasa pemrograman yang dikelola oleh Google. Google tidak bekerja sendirian, melainkan bekerja sama dengan 3 orang tokoh handal pada tahun 2009. Robert Griesemer, Rob Pike dan Ken Thompson merupakan ketiga tokoh tersebut. Bahasa pemrograman satu ini bisa diketik secara statis dan dapat menghasilkan kode-kode biner pada mesin yang dikompilasikan dengannya. Berasal dari abad ke-21, bahasa pemrograman Golang berusaha menghimpun bahasa-bahasa pemrograman pendahulunya. Pembuatan website, aplikasi maupun software juga bisa menggunakan bahasa pemrograman ini.\"\n",
    "text = '''Go Language merupakan kepanjangan dari bahasa pemrograman satu ini. \n",
    "Seperti kita tahu namanya diawali dengan Go, ya benar dia merupakan bahasa pemrograman yang dikelola oleh Google. \n",
    "Google tidak bekerja sendirian, melainkan bekerja sama dengan 3 orang tokoh handal pada tahun 2009. \n",
    "Robert Griesemer, Rob Pike dan Ken Thompson merupakan ketiga tokoh tersebut. \n",
    "Bahasa pemrograman satu ini bisa diketik secara statis dan dapat menghasilkan kode-kode biner pada mesin yang dikompilasikan dengannya. \n",
    "Berasal dari abad ke-21, bahasa pemrograman Golang berusaha menghimpun bahasa-bahasa pemrograman pendahulunya. \n",
    "Pembuatan website, aplikasi maupun software juga bisa menggunakan bahasa pemrograman ini.'''\n",
    "print(text)"
   ]
  },
  {
   "cell_type": "code",
   "execution_count": 15,
   "metadata": {},
   "outputs": [
    {
     "name": "stdout",
     "output_type": "stream",
     "text": [
      "go language merupakan kepanjangan dari bahasa pemrograman satu ini\n",
      "seperti kita tahu namanya diawali dengan go ya benar dia merupakan bahasa pemrograman yang dikelola oleh google\n",
      "google tidak bekerja sendirian melainkan bekerja sama dengan  orang tokoh handal pada tahun  \n",
      "robert griesemer rob pike dan ken thompson merupakan ketiga tokoh tersebut\n",
      "bahasa pemrograman satu ini bisa diketik secara statis dan dapat menghasilkan kodekode biner pada mesin yang dikompilasikan dengannya\n",
      "berasal dari abad  bahasa pemrograman golang berusaha menghimpun bahasabahasa pemrograman pendahulunya\n",
      "pembuatan website aplikasi maupun software juga bisa menggunakan bahasa pemrograman ini\n"
     ]
    }
   ],
   "source": [
    "# LOWERCASE + TOKENIZE TO SENTENCES + REMOVE PUNCTUATION + REMOVE NUMBER\n",
    "text = text.lower()\n",
    "sentences = sent_tokenize(text)\n",
    "temp = []\n",
    "for sentence in sentences:\n",
    "    sentence = re.sub(r'[^\\w\\s]','',sentence) #Remove punctuation\n",
    "    sentence = re.sub(r'\\w*\\d\\w*','',sentence) #Remove number\n",
    "    if sentence != None:\n",
    "        temp.append(sentence)\n",
    "    else:\n",
    "        temp.append(\".\")\n",
    "sentences = temp\n",
    "printer = [print(sentence) for sentence in sentences]"
   ]
  },
  {
   "cell_type": "code",
   "execution_count": 16,
   "metadata": {},
   "outputs": [
    {
     "name": "stdout",
     "output_type": "stream",
     "text": [
      "go language merupakan kepanjangan bahasa pemrograman satu\n",
      "kita tahu namanya diawali go benar merupakan bahasa pemrograman dikelola google\n",
      "google bekerja sendirian bekerja sama  orang tokoh handal tahun  \n",
      "robert griesemer rob pike ken thompson merupakan ketiga tokoh tersebut\n",
      "bahasa pemrograman satu bisa diketik statis dapat menghasilkan kodekode biner mesin dikompilasikan dengannya\n",
      "berasal abad  bahasa pemrograman golang berusaha menghimpun bahasabahasa pemrograman pendahulunya\n",
      "pembuatan website aplikasi maupun software bisa menggunakan bahasa pemrograman\n"
     ]
    }
   ],
   "source": [
    "# STOPWORDS REMOVAL\n",
    "factory = StopWordRemoverFactory()\n",
    "stopword = factory.create_stop_word_remover()\n",
    "temp = []\n",
    "for sentence in sentences:\n",
    "    sentence = stopword.remove(sentence)\n",
    "    temp.append(sentence)\n",
    "sentences = temp\n",
    "printer = [print(sentence) for sentence in sentences]"
   ]
  },
  {
   "cell_type": "code",
   "execution_count": 17,
   "metadata": {},
   "outputs": [
    {
     "name": "stdout",
     "output_type": "stream",
     "text": [
      "go language rupa panjang bahasa pemrograman satu\n",
      "kita tahu nama awal go benar rupa bahasa pemrograman kelola google\n",
      "google kerja sendiri kerja sama orang tokoh handal tahun robert griesemer rob pike ken thompson rupa tiga tokoh sebut\n",
      "bahasa pemrograman satu bisa ketik statis dapat hasil kodekode biner mesin kompilasi dengan\n",
      "asal abad bahasa pemrograman golang usaha himpun bahasabahasa pemrograman dahulu\n",
      "buat website aplikasi maupun software bisa guna bahasa pemrograman\n"
     ]
    }
   ],
   "source": [
    "#STEMMING\n",
    "factory = StemmerFactory()\n",
    "stemmer = factory.create_stemmer()\n",
    "temp = []\n",
    "for sentence in sentences:\n",
    "    sentence = stemmer.stem(sentence)\n",
    "    temp.append(sentence)\n",
    "sentences = temp\n",
    "printer = [print(sentence) for sentence in sentences]"
   ]
  },
  {
   "cell_type": "code",
   "execution_count": 18,
   "metadata": {},
   "outputs": [
    {
     "name": "stdout",
     "output_type": "stream",
     "text": [
      "['go', 'language', 'rupa', 'panjang', 'bahasa', 'pemrograman', 'satu']\n",
      "['kita', 'tahu', 'nama', 'awal', 'go', 'benar', 'rupa', 'bahasa', 'pemrograman', 'kelola', 'google']\n",
      "['google', 'kerja', 'sendiri', 'kerja', 'sama', 'orang', 'tokoh', 'handal', 'tahun', 'robert', 'griesemer', 'rob', 'pike', 'ken', 'thompson', 'rupa', 'tiga', 'tokoh', 'sebut']\n",
      "['bahasa', 'pemrograman', 'satu', 'bisa', 'ketik', 'statis', 'dapat', 'hasil', 'kodekode', 'biner', 'mesin', 'kompilasi', 'dengan']\n",
      "['asal', 'abad', 'bahasa', 'pemrograman', 'golang', 'usaha', 'himpun', 'bahasabahasa', 'pemrograman', 'dahulu']\n",
      "['buat', 'website', 'aplikasi', 'maupun', 'software', 'bisa', 'guna', 'bahasa', 'pemrograman']\n"
     ]
    }
   ],
   "source": [
    "#TOKENIZE TO WORDS\n",
    "words = [word_tokenize(word) for word in sentences]\n",
    "printer = [print(word) for word in words]"
   ]
  },
  {
   "cell_type": "code",
   "execution_count": null,
   "metadata": {},
   "outputs": [],
   "source": []
  }
 ],
 "metadata": {
  "kernelspec": {
   "display_name": "Python 3",
   "language": "python",
   "name": "python3"
  },
  "language_info": {
   "codemirror_mode": {
    "name": "ipython",
    "version": 3
   },
   "file_extension": ".py",
   "mimetype": "text/x-python",
   "name": "python",
   "nbconvert_exporter": "python",
   "pygments_lexer": "ipython3",
   "version": "3.10.6"
  },
  "orig_nbformat": 4
 },
 "nbformat": 4,
 "nbformat_minor": 2
}
